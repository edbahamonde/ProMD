{
 "cells": [
  {
   "cell_type": "markdown",
   "metadata": {},
   "source": [
    "# Proyecto Minería de Datos\n",
    "\n",
    "**Objetivo General:** Crear un modelo con Machine Learning que pronostique tendencias, para relacionar productos que sean ideales para ventas cruzadas, en base a las transacciones de clientes.\n",
    "\n",
    "**Dataset:** https://www.kaggle.com/mathchi/online-retail-ii-data-set-from-ml-repository\n",
    "\n",
    "**Problema:** Para una empresa cualquiera, le es importante mejorar sus ventas o servicios de acuerdo a las necesidades del cliente. Los grandes negocios implementan procesos inteligentes acorde a las acciones de sus clientes, para lograr mejorar sus ingresos, algunos de estos procedimientos están basados en los conocimientos de marketing, Big Data, Smart Data, estadística. Sin embargo para lograr el objetivo de aumentar las ventas, es necesario tener una base de datos de las transacciones realizadas para el análisis de los datos, por tal motivo en este proyecto se enfoca en la creación de un modelo que pueda\n",
    "predecir tendencias de agrupaciones de productos en base a las compras realizadas por diferentes clientes en una tienda de regalos del Reino Unido entre el 2009 y 2011.\n",
    "\n",
    "**Tema:** Modelo de pronóstico de tendencias para ventas cruzadas de una tienda de regalos del\n",
    "Reino Unido entre el 2009 a 2011"
   ]
  },
  {
   "cell_type": "markdown",
   "metadata": {},
   "source": [
    "**Librerías**"
   ]
  },
  {
   "cell_type": "code",
   "execution_count": 1,
   "metadata": {},
   "outputs": [],
   "source": [
    "# Usada para la importación de los datos\n",
    "import pandas as pd\n",
    "# Usada para la graficación\n",
    "import matplotlib.pyplot as plt\n",
    "# Usada para la graficación\n",
    "import seaborn as sns\n",
    "# La escala para normalización\n",
    "from sklearn.preprocessing import StandardScaler, RobustScaler\n",
    "# Para la separación del dataset\n",
    "from sklearn.model_selection import train_test_split"
   ]
  },
  {
   "cell_type": "markdown",
   "metadata": {},
   "source": [
    "## Análisis de los datos\n",
    "\n",
    "En este apartado se hace un análisis de los datos, para saber si existen datos nulos, el número de registros, distribución de los datos."
   ]
  },
  {
   "cell_type": "markdown",
   "metadata": {},
   "source": [
    "**Importación del dataset**"
   ]
  },
  {
   "cell_type": "code",
   "execution_count": 2,
   "metadata": {},
   "outputs": [],
   "source": [
    "#Función para la lectura del dataset\n",
    "def importdata():\n",
    "    df = pd.read_csv('dataset/Year_2009-2011.csv',encoding='unicode_escape')\n",
    "    print(\"Estadísticas del dataset: \\n\", df.describe().T)\n",
    "    print(\"Tamaño del dataset: \\n\", df.shape)\n",
    "    return df"
   ]
  },
  {
   "cell_type": "code",
   "execution_count": 3,
   "metadata": {},
   "outputs": [],
   "source": [
    "#Función para ver si existen datos nulos\n",
    "def datosnull(df):\n",
    "    existen_bol=1\n",
    "    total_register=len(df.index)\n",
    "    total_nan_values = df.isnull().sum().sum()\n",
    "    existen=total_register-total_nan_values\n",
    "    if(existen != 0):\n",
    "        print(\"Número de datos nulos: \", total_nan_values)\n",
    "        print(\"Número de registros finales: \", existen)\n",
    "        df=eraseregis(df)\n",
    "        return existen_bol, df\n",
    "    else:\n",
    "        return 0"
   ]
  },
  {
   "cell_type": "code",
   "execution_count": 5,
   "metadata": {},
   "outputs": [
    {
     "name": "stdout",
     "output_type": "stream",
     "text": [
      "Estadísticas del dataset: \n",
      "                  count          mean          std       min       25%  \\\n",
      "Quantity     1033036.0     10.076879   175.197628 -80995.00      1.00   \n",
      "Price        1033036.0      4.613980   122.397523 -53594.36      1.25   \n",
      "Customer ID   797885.0  15313.062777  1696.466663  12346.00  13964.00   \n",
      "\n",
      "                 50%       75%      max  \n",
      "Quantity         3.0     10.00  80995.0  \n",
      "Price            2.1      4.15  38970.0  \n",
      "Customer ID  15228.0  16788.00  18287.0  \n",
      "Tamaño del dataset: \n",
      " (1033036, 8)\n",
      "Número de datos nulos:  239426\n",
      "Número de registros finales:  793610\n",
      "Total de registros : 1033036\n"
     ]
    }
   ],
   "source": [
    "data=importdata()\n",
    "existen_bol,df=datosnull(data)\n",
    "print(\"Total de registros :\", len(data))"
   ]
  },
  {
   "cell_type": "code",
   "execution_count": 12,
   "metadata": {},
   "outputs": [
    {
     "data": {
      "text/plain": [
       "235151"
      ]
     },
     "execution_count": 12,
     "metadata": {},
     "output_type": "execute_result"
    }
   ],
   "source": [
    "data['Customer ID'].isnull().sum()"
   ]
  },
  {
   "cell_type": "code",
   "execution_count": 13,
   "metadata": {},
   "outputs": [
    {
     "data": {
      "text/plain": [
       "0"
      ]
     },
     "execution_count": 13,
     "metadata": {},
     "output_type": "execute_result"
    }
   ],
   "source": [
    "data['Quantity'].isnull().sum()"
   ]
  },
  {
   "cell_type": "code",
   "execution_count": 14,
   "metadata": {},
   "outputs": [
    {
     "data": {
      "text/plain": [
       "0"
      ]
     },
     "execution_count": 14,
     "metadata": {},
     "output_type": "execute_result"
    }
   ],
   "source": [
    "data['StockCode'].isnull().sum()"
   ]
  },
  {
   "cell_type": "code",
   "execution_count": 6,
   "metadata": {},
   "outputs": [],
   "source": [
    "#Función para graficar con puntos\n",
    "def grapscat(x,y,color):\n",
    "    plt.scatter(x, y, alpha=0.3, c=color)\n",
    "    plt.show"
   ]
  },
  {
   "cell_type": "code",
   "execution_count": 8,
   "metadata": {},
   "outputs": [],
   "source": [
    "#Función para graficar en barras\n",
    "def grapbar(df):\n",
    "    df['StockCode'].value_counts().plot(kind='bar')"
   ]
  },
  {
   "cell_type": "markdown",
   "metadata": {},
   "source": [
    "## Selección de las variables\n",
    "\n",
    "En esta sección se escogen las variables x & y del dataset"
   ]
  },
  {
   "cell_type": "code",
   "execution_count": 6,
   "metadata": {},
   "outputs": [],
   "source": [
    "x=df[['Customer ID','Quantity','StockCode']]\n",
    "y=df['StockCode']"
   ]
  },
  {
   "cell_type": "markdown",
   "metadata": {},
   "source": [
    "## Limpieza y transformación\n",
    "\n",
    "En esta sección se eliminan los registros con datos nulos, a partir de la selección de variables, también se hace la imputación de datos."
   ]
  },
  {
   "cell_type": "markdown",
   "metadata": {},
   "source": [
    "**Eliminación de datos nulos**"
   ]
  },
  {
   "cell_type": "code",
   "execution_count": 7,
   "metadata": {},
   "outputs": [],
   "source": [
    "#Función para eliminación de registros con datos nulos\n",
    "def eraseregis(data):\n",
    "    data = data.dropna()\n",
    "    return data"
   ]
  },
  {
   "cell_type": "code",
   "execution_count": 8,
   "metadata": {},
   "outputs": [
    {
     "data": {
      "text/html": [
       "<div>\n",
       "<style scoped>\n",
       "    .dataframe tbody tr th:only-of-type {\n",
       "        vertical-align: middle;\n",
       "    }\n",
       "\n",
       "    .dataframe tbody tr th {\n",
       "        vertical-align: top;\n",
       "    }\n",
       "\n",
       "    .dataframe thead th {\n",
       "        text-align: right;\n",
       "    }\n",
       "</style>\n",
       "<table border=\"1\" class=\"dataframe\">\n",
       "  <thead>\n",
       "    <tr style=\"text-align: right;\">\n",
       "      <th></th>\n",
       "      <th>Customer ID</th>\n",
       "      <th>Quantity</th>\n",
       "      <th>StockCode</th>\n",
       "    </tr>\n",
       "  </thead>\n",
       "  <tbody>\n",
       "    <tr>\n",
       "      <th>0</th>\n",
       "      <td>13085.0</td>\n",
       "      <td>12</td>\n",
       "      <td>85048</td>\n",
       "    </tr>\n",
       "    <tr>\n",
       "      <th>1</th>\n",
       "      <td>13085.0</td>\n",
       "      <td>12</td>\n",
       "      <td>79323P</td>\n",
       "    </tr>\n",
       "    <tr>\n",
       "      <th>2</th>\n",
       "      <td>13085.0</td>\n",
       "      <td>12</td>\n",
       "      <td>79323W</td>\n",
       "    </tr>\n",
       "    <tr>\n",
       "      <th>3</th>\n",
       "      <td>13085.0</td>\n",
       "      <td>48</td>\n",
       "      <td>22041</td>\n",
       "    </tr>\n",
       "    <tr>\n",
       "      <th>4</th>\n",
       "      <td>13085.0</td>\n",
       "      <td>24</td>\n",
       "      <td>21232</td>\n",
       "    </tr>\n",
       "    <tr>\n",
       "      <th>...</th>\n",
       "      <td>...</td>\n",
       "      <td>...</td>\n",
       "      <td>...</td>\n",
       "    </tr>\n",
       "    <tr>\n",
       "      <th>1033031</th>\n",
       "      <td>12680.0</td>\n",
       "      <td>6</td>\n",
       "      <td>22899</td>\n",
       "    </tr>\n",
       "    <tr>\n",
       "      <th>1033032</th>\n",
       "      <td>12680.0</td>\n",
       "      <td>4</td>\n",
       "      <td>23254</td>\n",
       "    </tr>\n",
       "    <tr>\n",
       "      <th>1033033</th>\n",
       "      <td>12680.0</td>\n",
       "      <td>4</td>\n",
       "      <td>23255</td>\n",
       "    </tr>\n",
       "    <tr>\n",
       "      <th>1033034</th>\n",
       "      <td>12680.0</td>\n",
       "      <td>3</td>\n",
       "      <td>22138</td>\n",
       "    </tr>\n",
       "    <tr>\n",
       "      <th>1033035</th>\n",
       "      <td>12680.0</td>\n",
       "      <td>1</td>\n",
       "      <td>POST</td>\n",
       "    </tr>\n",
       "  </tbody>\n",
       "</table>\n",
       "<p>797885 rows × 3 columns</p>\n",
       "</div>"
      ],
      "text/plain": [
       "         Customer ID  Quantity StockCode\n",
       "0            13085.0        12     85048\n",
       "1            13085.0        12    79323P\n",
       "2            13085.0        12    79323W\n",
       "3            13085.0        48     22041\n",
       "4            13085.0        24     21232\n",
       "...              ...       ...       ...\n",
       "1033031      12680.0         6     22899\n",
       "1033032      12680.0         4     23254\n",
       "1033033      12680.0         4     23255\n",
       "1033034      12680.0         3     22138\n",
       "1033035      12680.0         1      POST\n",
       "\n",
       "[797885 rows x 3 columns]"
      ]
     },
     "execution_count": 8,
     "metadata": {},
     "output_type": "execute_result"
    }
   ],
   "source": [
    "x"
   ]
  },
  {
   "cell_type": "code",
   "execution_count": 9,
   "metadata": {},
   "outputs": [
    {
     "name": "stdout",
     "output_type": "stream",
     "text": [
      "Número de datos nulos:  0\n",
      "Número de registros finales:  797885\n"
     ]
    }
   ],
   "source": [
    "existen_bol,df=datosnull(x)"
   ]
  },
  {
   "cell_type": "code",
   "execution_count": 10,
   "metadata": {},
   "outputs": [
    {
     "data": {
      "text/plain": [
       "Customer ID    float64\n",
       "Quantity         int64\n",
       "StockCode       object\n",
       "dtype: object"
      ]
     },
     "execution_count": 10,
     "metadata": {},
     "output_type": "execute_result"
    }
   ],
   "source": [
    "x.dtypes"
   ]
  },
  {
   "cell_type": "code",
   "execution_count": 11,
   "metadata": {},
   "outputs": [],
   "source": [
    "#Función para realizar algunos procesos en los datos para limpiarlos y borrar registros con errores\n",
    "def limpieza(x):\n",
    "    #Elimina letras del StockCode\n",
    "    x['StockCode'] = x['StockCode'].replace({'[A-Z]':''}, regex=True)\n",
    "    #Para convertir StockCode de objeto a numérico\n",
    "    x['StockCode'] = pd.to_numeric(x['StockCode'], errors='coerce')\n",
    "    print(\"Nuevo dataset: \\n\", x)\n",
    "    print(\"Tipos de datos: \\n\", x.dtypes)\n",
    "    return x"
   ]
  },
  {
   "cell_type": "code",
   "execution_count": 12,
   "metadata": {},
   "outputs": [],
   "source": [
    "#Eliminación de datos NaN\n",
    "def eliminaregistros(x):\n",
    "    #Elimina los registros que tenga valor NaN\n",
    "    existen_bol,x = datosnull(x)\n",
    "    #Convierte a entero\n",
    "    x=x.astype(int)\n",
    "    print(\"Nuevo dataset: \\n\", x)\n",
    "    print(\"Tipos de datos: \\n\", x.dtypes)\n",
    "    return x"
   ]
  },
  {
   "cell_type": "code",
   "execution_count": 13,
   "metadata": {},
   "outputs": [
    {
     "name": "stdout",
     "output_type": "stream",
     "text": [
      "Nuevo dataset: \n",
      "          Customer ID  Quantity  StockCode\n",
      "0            13085.0        12    85048.0\n",
      "1            13085.0        12    79323.0\n",
      "2            13085.0        12    79323.0\n",
      "3            13085.0        48    22041.0\n",
      "4            13085.0        24    21232.0\n",
      "...              ...       ...        ...\n",
      "1033031      12680.0         6    22899.0\n",
      "1033032      12680.0         4    23254.0\n",
      "1033033      12680.0         4    23255.0\n",
      "1033034      12680.0         3    22138.0\n",
      "1033035      12680.0         1        NaN\n",
      "\n",
      "[797885 rows x 3 columns]\n",
      "Tipos de datos: \n",
      " Customer ID    float64\n",
      "Quantity         int64\n",
      "StockCode      float64\n",
      "dtype: object\n",
      "Número de datos nulos:  3387\n",
      "Número de registros finales:  794498\n",
      "Nuevo dataset: \n",
      "          Customer ID  Quantity  StockCode\n",
      "0              13085        12      85048\n",
      "1              13085        12      79323\n",
      "2              13085        12      79323\n",
      "3              13085        48      22041\n",
      "4              13085        24      21232\n",
      "...              ...       ...        ...\n",
      "1033030        12680        12      22613\n",
      "1033031        12680         6      22899\n",
      "1033032        12680         4      23254\n",
      "1033033        12680         4      23255\n",
      "1033034        12680         3      22138\n",
      "\n",
      "[794498 rows x 3 columns]\n",
      "Tipos de datos: \n",
      " Customer ID    int32\n",
      "Quantity       int32\n",
      "StockCode      int32\n",
      "dtype: object\n"
     ]
    }
   ],
   "source": [
    "x=limpieza(x)\n",
    "x=eliminaregistros(x)"
   ]
  },
  {
   "cell_type": "code",
   "execution_count": 14,
   "metadata": {},
   "outputs": [
    {
     "data": {
      "text/html": [
       "<div>\n",
       "<style scoped>\n",
       "    .dataframe tbody tr th:only-of-type {\n",
       "        vertical-align: middle;\n",
       "    }\n",
       "\n",
       "    .dataframe tbody tr th {\n",
       "        vertical-align: top;\n",
       "    }\n",
       "\n",
       "    .dataframe thead th {\n",
       "        text-align: right;\n",
       "    }\n",
       "</style>\n",
       "<table border=\"1\" class=\"dataframe\">\n",
       "  <thead>\n",
       "    <tr style=\"text-align: right;\">\n",
       "      <th></th>\n",
       "      <th>Customer ID</th>\n",
       "      <th>Quantity</th>\n",
       "      <th>StockCode</th>\n",
       "    </tr>\n",
       "  </thead>\n",
       "  <tbody>\n",
       "    <tr>\n",
       "      <th>0</th>\n",
       "      <td>13085</td>\n",
       "      <td>12</td>\n",
       "      <td>85048</td>\n",
       "    </tr>\n",
       "    <tr>\n",
       "      <th>1</th>\n",
       "      <td>13085</td>\n",
       "      <td>12</td>\n",
       "      <td>79323</td>\n",
       "    </tr>\n",
       "    <tr>\n",
       "      <th>2</th>\n",
       "      <td>13085</td>\n",
       "      <td>12</td>\n",
       "      <td>79323</td>\n",
       "    </tr>\n",
       "    <tr>\n",
       "      <th>3</th>\n",
       "      <td>13085</td>\n",
       "      <td>48</td>\n",
       "      <td>22041</td>\n",
       "    </tr>\n",
       "    <tr>\n",
       "      <th>4</th>\n",
       "      <td>13085</td>\n",
       "      <td>24</td>\n",
       "      <td>21232</td>\n",
       "    </tr>\n",
       "    <tr>\n",
       "      <th>...</th>\n",
       "      <td>...</td>\n",
       "      <td>...</td>\n",
       "      <td>...</td>\n",
       "    </tr>\n",
       "    <tr>\n",
       "      <th>1033030</th>\n",
       "      <td>12680</td>\n",
       "      <td>12</td>\n",
       "      <td>22613</td>\n",
       "    </tr>\n",
       "    <tr>\n",
       "      <th>1033031</th>\n",
       "      <td>12680</td>\n",
       "      <td>6</td>\n",
       "      <td>22899</td>\n",
       "    </tr>\n",
       "    <tr>\n",
       "      <th>1033032</th>\n",
       "      <td>12680</td>\n",
       "      <td>4</td>\n",
       "      <td>23254</td>\n",
       "    </tr>\n",
       "    <tr>\n",
       "      <th>1033033</th>\n",
       "      <td>12680</td>\n",
       "      <td>4</td>\n",
       "      <td>23255</td>\n",
       "    </tr>\n",
       "    <tr>\n",
       "      <th>1033034</th>\n",
       "      <td>12680</td>\n",
       "      <td>3</td>\n",
       "      <td>22138</td>\n",
       "    </tr>\n",
       "  </tbody>\n",
       "</table>\n",
       "<p>794498 rows × 3 columns</p>\n",
       "</div>"
      ],
      "text/plain": [
       "         Customer ID  Quantity  StockCode\n",
       "0              13085        12      85048\n",
       "1              13085        12      79323\n",
       "2              13085        12      79323\n",
       "3              13085        48      22041\n",
       "4              13085        24      21232\n",
       "...              ...       ...        ...\n",
       "1033030        12680        12      22613\n",
       "1033031        12680         6      22899\n",
       "1033032        12680         4      23254\n",
       "1033033        12680         4      23255\n",
       "1033034        12680         3      22138\n",
       "\n",
       "[794498 rows x 3 columns]"
      ]
     },
     "execution_count": 14,
     "metadata": {},
     "output_type": "execute_result"
    }
   ],
   "source": [
    "x"
   ]
  },
  {
   "cell_type": "markdown",
   "metadata": {},
   "source": [
    "**Transformación - Escala y División del dataset**"
   ]
  },
  {
   "cell_type": "code",
   "execution_count": 15,
   "metadata": {},
   "outputs": [],
   "source": [
    "#División del dataset, en conjunto de datos de entrenamiento y otro conjunto para las pruebas\n",
    "def slipdata(df):\n",
    "    X_train, X_test, y_train, y_test = train_test_split(df, df['StockCode'], test_size=0.3, random_state=109)\n",
    "    return X_train, X_test, y_train, y_test"
   ]
  },
  {
   "cell_type": "code",
   "execution_count": 16,
   "metadata": {},
   "outputs": [],
   "source": [
    "# Función para la ESTANDARIZACIÓN\n",
    "def standa(X_train, X_test, y_train, y_test):\n",
    "    scaler = StandardScaler()\n",
    "    scaler.fit(X_train)\n",
    "\n",
    "    X_train_scaled = scaler.transform(X_train)\n",
    "    X_test_scaled = scaler.transform(X_test)\n",
    "\n",
    "    X_train_scaled = pd.DataFrame(X_train_scaled, columns=X_train.columns)\n",
    "    X_test_scaled = pd.DataFrame(X_test_scaled, columns=X_test.columns)\n",
    "    \n",
    "    return X_train_scaled, X_test_scaled"
   ]
  },
  {
   "cell_type": "code",
   "execution_count": 17,
   "metadata": {},
   "outputs": [],
   "source": [
    "# Función de la gráfica de la estandarización\n",
    "def graficar(X_train,X_train_scaled):\n",
    "    fig, (ax1, ax2) = plt.subplots(ncols=2, figsize=(20, 6))\n",
    "\n",
    "    for (label, content) in X_train.iteritems():\n",
    "        ax1.set_title('Antes del escalado')\n",
    "        sns.kdeplot(X_train[label], ax=ax1, label=label)\n",
    "        leg = ax1.legend(loc=\"upper right\", bbox_to_anchor=[0, 1], ncol=2, shadow=True, title=\"Características\", fancybox=True)\n",
    "    \n",
    "    for (label, content) in X_train_scaled.iteritems():\n",
    "        ax2.set_title('Después del escalado')\n",
    "        sns.kdeplot(X_train_scaled[label], ax=ax2, label=label)\n",
    "        leg = ax2.legend(loc=\"upper right\", bbox_to_anchor=[0, 1], ncol=2, shadow=True, title=\"Características\", fancybox=True)\n",
    "\n",
    "    plt.show()"
   ]
  },
  {
   "cell_type": "code",
   "execution_count": 18,
   "metadata": {},
   "outputs": [
    {
     "data": {
      "image/png": "[encoded data removed]",
      "text/plain": [
       "<Figure size 1440x432 with 2 Axes>"
      ]
     },
     "metadata": {
      "needs_background": "light"
     },
     "output_type": "display_data"
    }
   ],
   "source": [
    "X_train, X_test, y_train, y_test=slipdata(x)\n",
    "X_train_scaled, X_test_scaled=standa(X_train, X_test, y_train, y_test)\n",
    "graficar(X_train,X_train_scaled)"
   ]
  },
  {
   "cell_type": "code",
   "execution_count": 19,
   "metadata": {},
   "outputs": [
    {
     "data": {
      "text/html": [
       "<div>\n",
       "<style scoped>\n",
       "    .dataframe tbody tr th:only-of-type {\n",
       "        vertical-align: middle;\n",
       "    }\n",
       "\n",
       "    .dataframe tbody tr th {\n",
       "        vertical-align: top;\n",
       "    }\n",
       "\n",
       "    .dataframe thead th {\n",
       "        text-align: right;\n",
       "    }\n",
       "</style>\n",
       "<table border=\"1\" class=\"dataframe\">\n",
       "  <thead>\n",
       "    <tr style=\"text-align: right;\">\n",
       "      <th></th>\n",
       "      <th>count</th>\n",
       "      <th>mean</th>\n",
       "      <th>std</th>\n",
       "      <th>min</th>\n",
       "      <th>25%</th>\n",
       "      <th>50%</th>\n",
       "      <th>75%</th>\n",
       "      <th>max</th>\n",
       "    </tr>\n",
       "  </thead>\n",
       "  <tbody>\n",
       "    <tr>\n",
       "      <th>Quantity</th>\n",
       "      <td>1033036.0</td>\n",
       "      <td>10.076879</td>\n",
       "      <td>175.197628</td>\n",
       "      <td>-80995.00</td>\n",
       "      <td>1.00</td>\n",
       "      <td>3.0</td>\n",
       "      <td>10.00</td>\n",
       "      <td>80995.0</td>\n",
       "    </tr>\n",
       "    <tr>\n",
       "      <th>Price</th>\n",
       "      <td>1033036.0</td>\n",
       "      <td>4.613980</td>\n",
       "      <td>122.397523</td>\n",
       "      <td>-53594.36</td>\n",
       "      <td>1.25</td>\n",
       "      <td>2.1</td>\n",
       "      <td>4.15</td>\n",
       "      <td>38970.0</td>\n",
       "    </tr>\n",
       "    <tr>\n",
       "      <th>Customer ID</th>\n",
       "      <td>797885.0</td>\n",
       "      <td>15313.062777</td>\n",
       "      <td>1696.466663</td>\n",
       "      <td>12346.00</td>\n",
       "      <td>13964.00</td>\n",
       "      <td>15228.0</td>\n",
       "      <td>16788.00</td>\n",
       "      <td>18287.0</td>\n",
       "    </tr>\n",
       "  </tbody>\n",
       "</table>\n",
       "</div>"
      ],
      "text/plain": [
       "                 count          mean          std       min       25%  \\\n",
       "Quantity     1033036.0     10.076879   175.197628 -80995.00      1.00   \n",
       "Price        1033036.0      4.613980   122.397523 -53594.36      1.25   \n",
       "Customer ID   797885.0  15313.062777  1696.466663  12346.00  13964.00   \n",
       "\n",
       "                 50%       75%      max  \n",
       "Quantity         3.0     10.00  80995.0  \n",
       "Price            2.1      4.15  38970.0  \n",
       "Customer ID  15228.0  16788.00  18287.0  "
      ]
     },
     "execution_count": 19,
     "metadata": {},
     "output_type": "execute_result"
    }
   ],
   "source": [
    "data.describe().T"
   ]
  },
  {
   "cell_type": "code",
   "execution_count": 20,
   "metadata": {},
   "outputs": [
    {
     "data": {
      "text/html": [
       "<div>\n",
       "<style scoped>\n",
       "    .dataframe tbody tr th:only-of-type {\n",
       "        vertical-align: middle;\n",
       "    }\n",
       "\n",
       "    .dataframe tbody tr th {\n",
       "        vertical-align: top;\n",
       "    }\n",
       "\n",
       "    .dataframe thead th {\n",
       "        text-align: right;\n",
       "    }\n",
       "</style>\n",
       "<table border=\"1\" class=\"dataframe\">\n",
       "  <thead>\n",
       "    <tr style=\"text-align: right;\">\n",
       "      <th></th>\n",
       "      <th>count</th>\n",
       "      <th>mean</th>\n",
       "      <th>std</th>\n",
       "      <th>min</th>\n",
       "      <th>25%</th>\n",
       "      <th>50%</th>\n",
       "      <th>75%</th>\n",
       "      <th>max</th>\n",
       "    </tr>\n",
       "  </thead>\n",
       "  <tbody>\n",
       "    <tr>\n",
       "      <th>Customer ID</th>\n",
       "      <td>794498.0</td>\n",
       "      <td>15319.407844</td>\n",
       "      <td>1693.495567</td>\n",
       "      <td>12346.0</td>\n",
       "      <td>13971.0</td>\n",
       "      <td>15241.0</td>\n",
       "      <td>16791.0</td>\n",
       "      <td>18287.0</td>\n",
       "    </tr>\n",
       "    <tr>\n",
       "      <th>Quantity</th>\n",
       "      <td>794498.0</td>\n",
       "      <td>12.648846</td>\n",
       "      <td>192.045804</td>\n",
       "      <td>-80995.0</td>\n",
       "      <td>2.0</td>\n",
       "      <td>5.0</td>\n",
       "      <td>12.0</td>\n",
       "      <td>80995.0</td>\n",
       "    </tr>\n",
       "    <tr>\n",
       "      <th>StockCode</th>\n",
       "      <td>794498.0</td>\n",
       "      <td>33108.116258</td>\n",
       "      <td>22950.327532</td>\n",
       "      <td>1.0</td>\n",
       "      <td>21807.0</td>\n",
       "      <td>22480.0</td>\n",
       "      <td>23290.0</td>\n",
       "      <td>90214.0</td>\n",
       "    </tr>\n",
       "  </tbody>\n",
       "</table>\n",
       "</div>"
      ],
      "text/plain": [
       "                count          mean           std      min      25%      50%  \\\n",
       "Customer ID  794498.0  15319.407844   1693.495567  12346.0  13971.0  15241.0   \n",
       "Quantity     794498.0     12.648846    192.045804 -80995.0      2.0      5.0   \n",
       "StockCode    794498.0  33108.116258  22950.327532      1.0  21807.0  22480.0   \n",
       "\n",
       "                 75%      max  \n",
       "Customer ID  16791.0  18287.0  \n",
       "Quantity        12.0  80995.0  \n",
       "StockCode    23290.0  90214.0  "
      ]
     },
     "execution_count": 20,
     "metadata": {},
     "output_type": "execute_result"
    }
   ],
   "source": [
    "x.describe().T"
   ]
  },
  {
   "cell_type": "code",
   "execution_count": null,
   "metadata": {},
   "outputs": [],
   "source": []
  }
 ],
 "metadata": {
  "kernelspec": {
   "display_name": "Python 3",
   "language": "python",
   "name": "python3"
  },
  "language_info": {
   "codemirror_mode": {
    "name": "ipython",
    "version": 3
   },
   "file_extension": ".py",
   "mimetype": "text/x-python",
   "name": "python",
   "nbconvert_exporter": "python",
   "pygments_lexer": "ipython3",
   "version": "3.8.5"
  }
 },
 "nbformat": 4,
 "nbformat_minor": 4
}
