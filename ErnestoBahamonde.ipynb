{
 "cells": [
  {
   "cell_type": "markdown",
   "metadata": {},
   "source": [
    "# Proyecto Minería de Datos\n",
    "\n",
    "**Objetivo General:** Crear un modelo con Machine Learning que pronostique tendencias, para relacionar productos que sean ideales para ventas cruzadas, en base a las transacciones de clientes.\n",
    "\n",
    "**Dataset:** https://www.kaggle.com/mathchi/online-retail-ii-data-set-from-ml-repository\n",
    "\n",
    "**Problema:** Para una empresa cualquiera, le es importante mejorar sus ventas o servicios de acuerdo a las necesidades del cliente. Los grandes negocios implementan procesos inteligentes acorde a las acciones de sus clientes, para lograr mejorar sus ingresos, algunos de estos procedimientos están basados en los conocimientos de marketing, Big Data, Smart Data, estadística. Sin embargo para lograr el objetivo de aumentar las ventas, es necesario tener una base de datos de las transacciones realizadas para el análisis de los datos, por tal motivo en este proyecto se enfoca en la creación de un modelo que pueda\n",
    "predecir tendencias de agrupaciones de productos en base a las compras realizadas por diferentes clientes en una tienda de regalos del Reino Unido entre el 2009 y 2011.\n",
    "\n",
    "**Tema:** Modelo de pronóstico de tendencias para ventas cruzadas de una tienda de regalos del\n",
    "Reino Unido entre el 2009 a 2011"
   ]
  },
  {
   "cell_type": "markdown",
   "metadata": {},
   "source": [
    "**Librerías**"
   ]
  },
  {
   "cell_type": "code",
   "execution_count": 1,
   "metadata": {},
   "outputs": [],
   "source": [
    "# Usada para la importación de los datos\n",
    "import pandas as pd\n",
    "# Usada para la graficación\n",
    "import matplotlib.pyplot as plt"
   ]
  },
  {
   "cell_type": "markdown",
   "metadata": {},
   "source": [
    "## Análisis de los datos\n",
    "\n",
    "En este apartado se hace un análisis de los datos, para saber si existen datos nulos, el número de registros, distribución de los datos."
   ]
  },
  {
   "cell_type": "markdown",
   "metadata": {},
   "source": [
    "**Importación del dataset**"
   ]
  },
  {
   "cell_type": "code",
   "execution_count": 2,
   "metadata": {},
   "outputs": [],
   "source": [
    "#Función para la lectura del dataset\n",
    "def importdata():\n",
    "    df = pd.read_csv('dataset/Year_2009-2011.csv',encoding='unicode_escape')\n",
    "    return df"
   ]
  },
  {
   "cell_type": "code",
   "execution_count": 4,
   "metadata": {},
   "outputs": [],
   "source": [
    "#Función para ver si existen datos nulos\n",
    "def datosnull(df):\n",
    "    existen_bol=1\n",
    "    total_register=len(df.index)\n",
    "    total_nan_values = df.isnull().sum().sum()\n",
    "    existen=total_register-total_nan_values\n",
    "    if(existen != 0):\n",
    "        print(\"Número de datos nulos: \", total_nan_values)\n",
    "        print(\"\\nNúmero de registros finales: \", existen)\n",
    "        df=eraseregis(df)\n",
    "        return existen_bol, df\n",
    "    else:\n",
    "        return 0"
   ]
  },
  {
   "cell_type": "code",
   "execution_count": 5,
   "metadata": {},
   "outputs": [
    {
     "name": "stdout",
     "output_type": "stream",
     "text": [
      "Número de datos nulos:  239426\n",
      "\n",
      "Número de registros finales:  793610\n"
     ]
    }
   ],
   "source": [
    "data=importdata()\n",
    "existen_bol,df=datosnull(data)"
   ]
  },
  {
   "cell_type": "code",
   "execution_count": 6,
   "metadata": {},
   "outputs": [],
   "source": [
    "#Función para graficar con puntos\n",
    "def grapscat(x,y,color):\n",
    "    plt.scatter(x, y, alpha=0.3, c=color)\n",
    "    plt.show"
   ]
  },
  {
   "cell_type": "markdown",
   "metadata": {},
   "source": [
    "## Selección de las variables\n",
    "\n",
    "En esta sección se escogen las variables x & y del dataset"
   ]
  },
  {
   "cell_type": "code",
   "execution_count": 6,
   "metadata": {},
   "outputs": [],
   "source": [
    "x=df[['Customer ID','Quantity','StockCode']]\n",
    "y=df['StockCode']"
   ]
  },
  {
   "cell_type": "markdown",
   "metadata": {},
   "source": [
    "## Limpieza y transformación\n",
    "\n",
    "En esta sección se eliminan los registros con datos nulos, a partir de la selección de variables, también se hace la imputación de datos."
   ]
  },
  {
   "cell_type": "markdown",
   "metadata": {},
   "source": [
    "**Eliminación de datos nulos**"
   ]
  },
  {
   "cell_type": "code",
   "execution_count": 3,
   "metadata": {},
   "outputs": [],
   "source": [
    "#Función para eliminación de registros con datos nulos\n",
    "def eraseregis(data):\n",
    "    data = data.dropna()\n",
    "    return data"
   ]
  },
  {
   "cell_type": "code",
   "execution_count": 7,
   "metadata": {},
   "outputs": [
    {
     "data": {
      "text/html": [
       "<div>\n",
       "<style scoped>\n",
       "    .dataframe tbody tr th:only-of-type {\n",
       "        vertical-align: middle;\n",
       "    }\n",
       "\n",
       "    .dataframe tbody tr th {\n",
       "        vertical-align: top;\n",
       "    }\n",
       "\n",
       "    .dataframe thead th {\n",
       "        text-align: right;\n",
       "    }\n",
       "</style>\n",
       "<table border=\"1\" class=\"dataframe\">\n",
       "  <thead>\n",
       "    <tr style=\"text-align: right;\">\n",
       "      <th></th>\n",
       "      <th>Customer ID</th>\n",
       "      <th>Quantity</th>\n",
       "      <th>StockCode</th>\n",
       "    </tr>\n",
       "  </thead>\n",
       "  <tbody>\n",
       "    <tr>\n",
       "      <th>0</th>\n",
       "      <td>13085.0</td>\n",
       "      <td>12</td>\n",
       "      <td>85048</td>\n",
       "    </tr>\n",
       "    <tr>\n",
       "      <th>1</th>\n",
       "      <td>13085.0</td>\n",
       "      <td>12</td>\n",
       "      <td>79323P</td>\n",
       "    </tr>\n",
       "    <tr>\n",
       "      <th>2</th>\n",
       "      <td>13085.0</td>\n",
       "      <td>12</td>\n",
       "      <td>79323W</td>\n",
       "    </tr>\n",
       "    <tr>\n",
       "      <th>3</th>\n",
       "      <td>13085.0</td>\n",
       "      <td>48</td>\n",
       "      <td>22041</td>\n",
       "    </tr>\n",
       "    <tr>\n",
       "      <th>4</th>\n",
       "      <td>13085.0</td>\n",
       "      <td>24</td>\n",
       "      <td>21232</td>\n",
       "    </tr>\n",
       "    <tr>\n",
       "      <th>...</th>\n",
       "      <td>...</td>\n",
       "      <td>...</td>\n",
       "      <td>...</td>\n",
       "    </tr>\n",
       "    <tr>\n",
       "      <th>1033031</th>\n",
       "      <td>12680.0</td>\n",
       "      <td>6</td>\n",
       "      <td>22899</td>\n",
       "    </tr>\n",
       "    <tr>\n",
       "      <th>1033032</th>\n",
       "      <td>12680.0</td>\n",
       "      <td>4</td>\n",
       "      <td>23254</td>\n",
       "    </tr>\n",
       "    <tr>\n",
       "      <th>1033033</th>\n",
       "      <td>12680.0</td>\n",
       "      <td>4</td>\n",
       "      <td>23255</td>\n",
       "    </tr>\n",
       "    <tr>\n",
       "      <th>1033034</th>\n",
       "      <td>12680.0</td>\n",
       "      <td>3</td>\n",
       "      <td>22138</td>\n",
       "    </tr>\n",
       "    <tr>\n",
       "      <th>1033035</th>\n",
       "      <td>12680.0</td>\n",
       "      <td>1</td>\n",
       "      <td>POST</td>\n",
       "    </tr>\n",
       "  </tbody>\n",
       "</table>\n",
       "<p>797885 rows × 3 columns</p>\n",
       "</div>"
      ],
      "text/plain": [
       "         Customer ID  Quantity StockCode\n",
       "0            13085.0        12     85048\n",
       "1            13085.0        12    79323P\n",
       "2            13085.0        12    79323W\n",
       "3            13085.0        48     22041\n",
       "4            13085.0        24     21232\n",
       "...              ...       ...       ...\n",
       "1033031      12680.0         6     22899\n",
       "1033032      12680.0         4     23254\n",
       "1033033      12680.0         4     23255\n",
       "1033034      12680.0         3     22138\n",
       "1033035      12680.0         1      POST\n",
       "\n",
       "[797885 rows x 3 columns]"
      ]
     },
     "execution_count": 7,
     "metadata": {},
     "output_type": "execute_result"
    }
   ],
   "source": [
    "x"
   ]
  },
  {
   "cell_type": "code",
   "execution_count": 8,
   "metadata": {},
   "outputs": [
    {
     "name": "stdout",
     "output_type": "stream",
     "text": [
      "Número de datos nulos:  0\n",
      "\n",
      "Número de registros finales:  797885\n"
     ]
    }
   ],
   "source": [
    "existen_bol,df=datosnull(x)"
   ]
  },
  {
   "cell_type": "code",
   "execution_count": 9,
   "metadata": {},
   "outputs": [
    {
     "data": {
      "text/plain": [
       "Customer ID    float64\n",
       "Quantity         int64\n",
       "StockCode       object\n",
       "dtype: object"
      ]
     },
     "execution_count": 9,
     "metadata": {},
     "output_type": "execute_result"
    }
   ],
   "source": [
    "x.dtypes"
   ]
  },
  {
   "cell_type": "code",
   "execution_count": 10,
   "metadata": {},
   "outputs": [],
   "source": [
    "#Función para realizar algunos procesos en los datos para limpiarlos y borrar registros con errores\n",
    "def limpieza(x):\n",
    "    #Elimina letras del StockCode\n",
    "    x['StockCode'] = x['StockCode'].replace({'[A-Z]':''}, regex=True)\n",
    "    #Para convertir StockCode de objeto a numérico\n",
    "    x['StockCode'] = pd.to_numeric(x['StockCode'], errors='coerce')\n",
    "    print(\"Nuevo dataset: \", x)\n",
    "    print(\"Tipos de datos: \", x.dtypes)\n",
    "    return x"
   ]
  },
  {
   "cell_type": "code",
   "execution_count": 11,
   "metadata": {},
   "outputs": [],
   "source": [
    "#Eliminación de datos NaN\n",
    "def eliminaregistros(x):\n",
    "    #Elimina los registros que tenga valor NaN\n",
    "    existen_bol,x = datosnull(x)\n",
    "    #Convierte a entero\n",
    "    x=x.astype(int)\n",
    "    print(\"Nuevo dataset: \", x)\n",
    "    print(\"Tipos de datos: \", x.dtypes)\n",
    "    return x"
   ]
  },
  {
   "cell_type": "code",
   "execution_count": 12,
   "metadata": {},
   "outputs": [
    {
     "name": "stdout",
     "output_type": "stream",
     "text": [
      "Nuevo dataset:           Customer ID  Quantity  StockCode\n",
      "0            13085.0        12    85048.0\n",
      "1            13085.0        12    79323.0\n",
      "2            13085.0        12    79323.0\n",
      "3            13085.0        48    22041.0\n",
      "4            13085.0        24    21232.0\n",
      "...              ...       ...        ...\n",
      "1033031      12680.0         6    22899.0\n",
      "1033032      12680.0         4    23254.0\n",
      "1033033      12680.0         4    23255.0\n",
      "1033034      12680.0         3    22138.0\n",
      "1033035      12680.0         1        NaN\n",
      "\n",
      "[797885 rows x 3 columns]\n"
     ]
    }
   ],
   "source": [
    "x=limpieza(x)\n",
    "x=eliminaregistros(x)"
   ]
  },
  {
   "cell_type": "code",
   "execution_count": 13,
   "metadata": {},
   "outputs": [
    {
     "name": "stdout",
     "output_type": "stream",
     "text": [
      "Número de datos nulos:  3387\n",
      "\n",
      "Número de registros finales:  794498\n",
      "Nuevo dataset:           Customer ID  Quantity  StockCode\n",
      "0              13085        12      85048\n",
      "1              13085        12      79323\n",
      "2              13085        12      79323\n",
      "3              13085        48      22041\n",
      "4              13085        24      21232\n",
      "...              ...       ...        ...\n",
      "1033030        12680        12      22613\n",
      "1033031        12680         6      22899\n",
      "1033032        12680         4      23254\n",
      "1033033        12680         4      23255\n",
      "1033034        12680         3      22138\n",
      "\n",
      "[794498 rows x 3 columns]\n"
     ]
    }
   ],
   "source": [
    "x=eliminaregistros(x)"
   ]
  },
  {
   "cell_type": "code",
   "execution_count": 14,
   "metadata": {},
   "outputs": [
    {
     "data": {
      "text/html": [
       "<div>\n",
       "<style scoped>\n",
       "    .dataframe tbody tr th:only-of-type {\n",
       "        vertical-align: middle;\n",
       "    }\n",
       "\n",
       "    .dataframe tbody tr th {\n",
       "        vertical-align: top;\n",
       "    }\n",
       "\n",
       "    .dataframe thead th {\n",
       "        text-align: right;\n",
       "    }\n",
       "</style>\n",
       "<table border=\"1\" class=\"dataframe\">\n",
       "  <thead>\n",
       "    <tr style=\"text-align: right;\">\n",
       "      <th></th>\n",
       "      <th>Customer ID</th>\n",
       "      <th>Quantity</th>\n",
       "      <th>StockCode</th>\n",
       "    </tr>\n",
       "  </thead>\n",
       "  <tbody>\n",
       "    <tr>\n",
       "      <th>0</th>\n",
       "      <td>13085</td>\n",
       "      <td>12</td>\n",
       "      <td>85048</td>\n",
       "    </tr>\n",
       "    <tr>\n",
       "      <th>1</th>\n",
       "      <td>13085</td>\n",
       "      <td>12</td>\n",
       "      <td>79323</td>\n",
       "    </tr>\n",
       "    <tr>\n",
       "      <th>2</th>\n",
       "      <td>13085</td>\n",
       "      <td>12</td>\n",
       "      <td>79323</td>\n",
       "    </tr>\n",
       "    <tr>\n",
       "      <th>3</th>\n",
       "      <td>13085</td>\n",
       "      <td>48</td>\n",
       "      <td>22041</td>\n",
       "    </tr>\n",
       "    <tr>\n",
       "      <th>4</th>\n",
       "      <td>13085</td>\n",
       "      <td>24</td>\n",
       "      <td>21232</td>\n",
       "    </tr>\n",
       "    <tr>\n",
       "      <th>...</th>\n",
       "      <td>...</td>\n",
       "      <td>...</td>\n",
       "      <td>...</td>\n",
       "    </tr>\n",
       "    <tr>\n",
       "      <th>1033030</th>\n",
       "      <td>12680</td>\n",
       "      <td>12</td>\n",
       "      <td>22613</td>\n",
       "    </tr>\n",
       "    <tr>\n",
       "      <th>1033031</th>\n",
       "      <td>12680</td>\n",
       "      <td>6</td>\n",
       "      <td>22899</td>\n",
       "    </tr>\n",
       "    <tr>\n",
       "      <th>1033032</th>\n",
       "      <td>12680</td>\n",
       "      <td>4</td>\n",
       "      <td>23254</td>\n",
       "    </tr>\n",
       "    <tr>\n",
       "      <th>1033033</th>\n",
       "      <td>12680</td>\n",
       "      <td>4</td>\n",
       "      <td>23255</td>\n",
       "    </tr>\n",
       "    <tr>\n",
       "      <th>1033034</th>\n",
       "      <td>12680</td>\n",
       "      <td>3</td>\n",
       "      <td>22138</td>\n",
       "    </tr>\n",
       "  </tbody>\n",
       "</table>\n",
       "<p>794498 rows × 3 columns</p>\n",
       "</div>"
      ],
      "text/plain": [
       "         Customer ID  Quantity  StockCode\n",
       "0              13085        12      85048\n",
       "1              13085        12      79323\n",
       "2              13085        12      79323\n",
       "3              13085        48      22041\n",
       "4              13085        24      21232\n",
       "...              ...       ...        ...\n",
       "1033030        12680        12      22613\n",
       "1033031        12680         6      22899\n",
       "1033032        12680         4      23254\n",
       "1033033        12680         4      23255\n",
       "1033034        12680         3      22138\n",
       "\n",
       "[794498 rows x 3 columns]"
      ]
     },
     "execution_count": 14,
     "metadata": {},
     "output_type": "execute_result"
    }
   ],
   "source": [
    "x"
   ]
  },
  {
   "cell_type": "code",
   "execution_count": 15,
   "metadata": {},
   "outputs": [
    {
     "ename": "ModuleNotFoundError",
     "evalue": "No module named 'iteration_utils'",
     "output_type": "error",
     "traceback": [
      "\u001b[1;31m---------------------------------------------------------------------------\u001b[0m",
      "\u001b[1;31mModuleNotFoundError\u001b[0m                       Traceback (most recent call last)",
      "\u001b[1;32m<ipython-input-15-71e643d44cf7>\u001b[0m in \u001b[0;36m<module>\u001b[1;34m\u001b[0m\n\u001b[1;32m----> 1\u001b[1;33m \u001b[1;32mfrom\u001b[0m \u001b[0miteration_utils\u001b[0m \u001b[1;32mimport\u001b[0m \u001b[0mduplicates\u001b[0m\u001b[1;33m\u001b[0m\u001b[1;33m\u001b[0m\u001b[0m\n\u001b[0m\u001b[0;32m      2\u001b[0m \u001b[0mlist\u001b[0m\u001b[1;33m(\u001b[0m\u001b[0mduplicates\u001b[0m\u001b[1;33m(\u001b[0m\u001b[0mx\u001b[0m\u001b[1;33m[\u001b[0m\u001b[1;34m'StockCode'\u001b[0m\u001b[1;33m]\u001b[0m\u001b[1;33m)\u001b[0m\u001b[1;33m)\u001b[0m\u001b[1;33m\u001b[0m\u001b[1;33m\u001b[0m\u001b[0m\n",
      "\u001b[1;31mModuleNotFoundError\u001b[0m: No module named 'iteration_utils'"
     ]
    }
   ],
   "source": [
    "from iteration_utils import duplicates\n",
    "list(duplicates(x['StockCode']))"
   ]
  },
  {
   "cell_type": "code",
   "execution_count": null,
   "metadata": {},
   "outputs": [],
   "source": []
  }
 ],
 "metadata": {
  "kernelspec": {
   "display_name": "Python 3",
   "language": "python",
   "name": "python3"
  },
  "language_info": {
   "codemirror_mode": {
    "name": "ipython",
    "version": 3
   },
   "file_extension": ".py",
   "mimetype": "text/x-python",
   "name": "python",
   "nbconvert_exporter": "python",
   "pygments_lexer": "ipython3",
   "version": "3.8.5"
  }
 },
 "nbformat": 4,
 "nbformat_minor": 4
}
